{
  "cells": [
    {
      "cell_type": "markdown",
      "metadata": {
        "id": "view-in-github",
        "colab_type": "text"
      },
      "source": [
        "<a href=\"https://colab.research.google.com/github/LazyRook01/DFS_GauravOjha_AppliedAI/blob/main/BasicDFS_implementation.ipynb\" target=\"_parent\"><img src=\"https://colab.research.google.com/assets/colab-badge.svg\" alt=\"Open In Colab\"/></a>"
      ]
    },
    {
      "cell_type": "markdown",
      "source": [
        "# Visualizing the input graph"
      ],
      "metadata": {
        "id": "jTIM9D6vd1BA"
      },
      "id": "jTIM9D6vd1BA"
    },
    {
      "cell_type": "code",
      "source": [
        "import networkx as nx\n",
        "import matplotlib.pyplot as plt\n",
        "\n",
        "graph = {\n",
        "    '5': ['3', '7'],\n",
        "    '3': ['5', '2', '4'],\n",
        "    '7': ['5', '8'],\n",
        "    '2': ['3'],\n",
        "    '4': ['3', '8'],\n",
        "    '8': ['7', '4']\n",
        "}\n",
        "\n",
        "G = nx.Graph()\n",
        "\n",
        "for node, neighbors in graph.items():\n",
        "    G.add_node(node)\n",
        "    for neighbor in neighbors:\n",
        "        G.add_edge(node, neighbor)\n",
        "\n",
        "pos = nx.spring_layout(G)  # Layout algorithm for positioning nodes\n",
        "\n",
        "nx.draw(G, pos, with_labels=True, node_size=1000, node_color='skyblue', font_size=10, font_color='black', font_weight='bold', linewidths=0.5, edge_color='gray')\n",
        "\n",
        "plt.title(\"Graph Visualization\")\n",
        "plt.show()"
      ],
      "metadata": {
        "colab": {
          "base_uri": "https://localhost:8080/",
          "height": 539
        },
        "id": "z2qKu4E_dv93",
        "outputId": "fc7500e9-2f91-44de-d38a-711672973d0f"
      },
      "id": "z2qKu4E_dv93",
      "execution_count": 2,
      "outputs": [
        {
          "output_type": "display_data",
          "data": {
            "text/plain": [
              "<Figure size 640x480 with 1 Axes>"
            ],
            "image/png": "[encoded data removed]"
          },
          "metadata": {}
        }
      ]
    },
    {
      "cell_type": "markdown",
      "source": [
        "# Implementation DFS (Recursive)"
      ],
      "metadata": {
        "id": "yogbcomZdvlH"
      },
      "id": "yogbcomZdvlH"
    },
    {
      "cell_type": "code",
      "execution_count": 3,
      "id": "138da664",
      "metadata": {
        "id": "138da664",
        "outputId": "c8cc8328-44b0-4a6f-e924-a5073e916155",
        "colab": {
          "base_uri": "https://localhost:8080/"
        }
      },
      "outputs": [
        {
          "output_type": "stream",
          "name": "stdout",
          "text": [
            "Following is the Depth First Search\n",
            "3\n",
            "5\n",
            "7\n",
            "8\n",
            "4\n",
            "2\n"
          ]
        }
      ],
      "source": [
        "graph = {\n",
        "    '5': ['3', '7'],\n",
        "    '3': ['5', '2', '4'],\n",
        "    '7': ['5', '8'],\n",
        "    '2': ['3'],\n",
        "    '4': ['3', '8'],\n",
        "    '8': ['7', '4']\n",
        "}\n",
        "visited=set()\n",
        "def dfs(visited,graph,node):\n",
        "    if node not in visited:\n",
        "        print (node)\n",
        "        visited.add(node)\n",
        "        for neighbour in graph[node]:\n",
        "            dfs(visited,graph,neighbour)\n",
        "print(\"Following is the Depth First Search\")\n",
        "dfs(visited,graph,'3')"
      ]
    },
    {
      "cell_type": "markdown",
      "source": [
        "# Implementing DFS (Iterative)\n"
      ],
      "metadata": {
        "id": "_jJCrQeKeCRU"
      },
      "id": "_jJCrQeKeCRU"
    },
    {
      "cell_type": "code",
      "execution_count": 5,
      "id": "8c83566a",
      "metadata": {
        "id": "8c83566a",
        "colab": {
          "base_uri": "https://localhost:8080/"
        },
        "outputId": "7fad873b-b613-43ad-ba95-64239ad62933"
      },
      "outputs": [
        {
          "output_type": "stream",
          "name": "stdout",
          "text": [
            "DFS traversal order: ['7', '5', '3', '2', '4', '8']\n"
          ]
        }
      ],
      "source": [
        "def dfs_stack(graph, start_node):\n",
        "    stack = [start_node]\n",
        "    visited = set()\n",
        "    traversal_order = []\n",
        "\n",
        "    while stack:\n",
        "        current_node = stack.pop()\n",
        "\n",
        "        if current_node not in visited:\n",
        "            visited.add(current_node)\n",
        "            traversal_order.append(current_node)\n",
        "\n",
        "            for neighbor in graph[current_node][::-1]:  # Reverse the order for stack\n",
        "                if neighbor not in visited:\n",
        "                    stack.append(neighbor)\n",
        "\n",
        "    return traversal_order\n",
        "\n",
        "# Given graph\n",
        "graph = {\n",
        "    '5': ['3', '7'],\n",
        "    '3': ['5', '2', '4'],\n",
        "    '7': ['5', '8'],\n",
        "    '2': ['3'],\n",
        "    '4': ['3', '8'],\n",
        "    '8': ['7', '4']\n",
        "}\n",
        "\n",
        "start_node = '7'\n",
        "traversal_order = dfs_stack(graph, start_node)\n",
        "print(\"DFS traversal order:\", traversal_order)"
      ]
    }
  ],
  "metadata": {
    "kernelspec": {
      "display_name": "Python 3 (ipykernel)",
      "language": "python",
      "name": "python3"
    },
    "language_info": {
      "codemirror_mode": {
        "name": "ipython",
        "version": 3
      },
      "file_extension": ".py",
      "mimetype": "text/x-python",
      "name": "python",
      "nbconvert_exporter": "python",
      "pygments_lexer": "ipython3",
      "version": "3.9.12"
    },
    "colab": {
      "provenance": [],
      "include_colab_link": true
    }
  },
  "nbformat": 4,
  "nbformat_minor": 5
}